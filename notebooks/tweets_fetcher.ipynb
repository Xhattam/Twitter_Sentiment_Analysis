{
 "cells": [
  {
   "cell_type": "markdown",
   "metadata": {},
   "source": [
    "### Sentiment analysis toy project on tweets about Babylon - Part 1\n",
    "#### Getting tweets"
   ]
  },
  {
   "cell_type": "markdown",
   "metadata": {},
   "source": [
    "#### TODO\n",
    "\n",
    "<ol>\n",
    "<li>Investigate the <code>tweet_mode='extended'</code> parameter to get non-truncated tweets</li>\n",
    "<li>Figure out why the <code>count</code> parameter always returns way less tweets than expected</li>\n",
    "<li>Investigate if the <code>query</code> parameter could be a regex\n",
    "</ol>"
   ]
  },
  {
   "cell_type": "code",
   "execution_count": 137,
   "metadata": {},
   "outputs": [],
   "source": [
    "import re\n",
    "import tweepy\n",
    "from tweepy import OAuthHandler\n",
    "import json\n",
    "from textblob import TextBlob"
   ]
  },
  {
   "cell_type": "code",
   "execution_count": 156,
   "metadata": {},
   "outputs": [],
   "source": [
    "class TwitterClient(object):\n",
    "    \"\"\" Authenticate, and get tweets from Twitter \"\"\"\n",
    "    def __init__(self):\n",
    "        keys = json.load(open(\"../data/twitter_keys.json\", \"r\"))\n",
    "        consumer_key = keys['consumer_key']\n",
    "        consumer_secret = keys['consumer_secret']\n",
    "        acces_token = keys['access_token']\n",
    "        access_token_secret = keys['access_token_secret']\n",
    "        \n",
    "        try:\n",
    "            self.auth = OAuthHandler(consumer_key, consumer_secret)\n",
    "            self.auth.set_access_token(acces_token, access_token_secret)\n",
    "            self.api = tweepy.API(self.auth)\n",
    "        except:\n",
    "            print(\"Authentication failed\")\n",
    "            \n",
    "    def get_raw_tweets(self, query, count, save): \n",
    "        \"\"\" Main function to fetch tweets and parse them. \n",
    "        :param query: seach query\n",
    "        :param count: number of tweets to fetch \n",
    "        :param save: if True, saves to file (avoiding twitter API throttling)\n",
    "        :returns: list of unique tweets \"\"\"\n",
    "        # empty set to store parsed tweets (unique)\n",
    "        tweets = set([])\n",
    "        try: \n",
    "            # call twitter api to fetch tweets \n",
    "            fetched_tweets = self.api.search(q=query, count=count, lang='en')\n",
    "            for tweet in fetched_tweets:\n",
    "                tweets.add(tweet.text)\n",
    "            print(\"Fetched {}/{} tweets\".format(len(fetched_tweets), count))\n",
    "            if save:\n",
    "                with open('../data/raw_tweets.json', 'w') as outfile:\n",
    "                    json.dump(list(tweets), outfile)\n",
    "            else:\n",
    "                return list(tweets) \n",
    "        \n",
    "        except tweepy.TweepError as e: \n",
    "            # print error (if any) \n",
    "            print(\"Error : \" + str(e)) "
   ]
  },
  {
   "cell_type": "code",
   "execution_count": 154,
   "metadata": {},
   "outputs": [],
   "source": [
    "tc = TwitterClient()"
   ]
  },
  {
   "cell_type": "code",
   "execution_count": 155,
   "metadata": {},
   "outputs": [
    {
     "name": "stdout",
     "output_type": "stream",
     "text": [
      "Fetched 100 tweets/500\n"
     ]
    }
   ],
   "source": [
    "tc.get_raw_tweets(\"babylonhealth\", 500, True)"
   ]
  },
  {
   "cell_type": "code",
   "execution_count": null,
   "metadata": {},
   "outputs": [],
   "source": []
  }
 ],
 "metadata": {
  "kernelspec": {
   "display_name": "Python 3",
   "language": "python",
   "name": "python3"
  },
  "language_info": {
   "codemirror_mode": {
    "name": "ipython",
    "version": 3
   },
   "file_extension": ".py",
   "mimetype": "text/x-python",
   "name": "python",
   "nbconvert_exporter": "python",
   "pygments_lexer": "ipython3",
   "version": "3.5.2"
  }
 },
 "nbformat": 4,
 "nbformat_minor": 2
}
