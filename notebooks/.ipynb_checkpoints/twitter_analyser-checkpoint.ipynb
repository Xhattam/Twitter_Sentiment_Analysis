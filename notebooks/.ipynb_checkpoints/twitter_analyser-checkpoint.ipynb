{
 "cells": [
  {
   "cell_type": "markdown",
   "metadata": {},
   "source": [
    "### Sentiment analysis toy project on tweets about Babylon - Part 2\n",
    "#### Analysing tweets"
   ]
  },
  {
   "cell_type": "markdown",
   "metadata": {},
   "source": [
    "<ol>\n",
    "<li>Try other models to see what we get (spacy, allennlp ?)</li>\n",
    "<li>Get proper scores, on more tweets once fetchig is fixed</li>\n",
    "<li>Get some detailed visualisation of the results</li>\n",
    "    <ul>\n",
    "        <li>percentage of positive/negative/neutral tweets</li>\n",
    "        <li>average confidence score for each category</li>\n",
    "        <li>average subjectivity score for each category</li>\n",
    "        <li>...</li>\n",
    "    </ul>\n",
    "</ol>"
   ]
  },
  {
   "cell_type": "code",
   "execution_count": 11,
   "metadata": {},
   "outputs": [],
   "source": [
    "import json\n",
    "import sys\n",
    "import os\n",
    "from monkeylearn import MonkeyLearn"
   ]
  },
  {
   "cell_type": "code",
   "execution_count": 18,
   "metadata": {},
   "outputs": [],
   "source": [
    "class SentimentAnalyser:\n",
    "    \"\"\" Using MonkeyLearn sentiment analysis model to get tweets polarity \"\"\"\n",
    "    def __init__(self, tweets):\n",
    "        self.tweets = tweets                                           # Loaded raw tweets\n",
    "        self.keys = json.load(open(\"../data/twitter_keys.json\", \"r\"))  # API/model keys\n",
    "        self.monkey_model = MonkeyLearn(self.keys['monkey_api_key'])   # model\n",
    "        \n",
    "    def analyse_tweets(self, force_reload=False):\n",
    "        \"\"\" Perform sentiment analysis on tweets\n",
    "        :param force_reload: if True, will call the model again \n",
    "                                (reducing # of available queries from MonkeyLearn)\n",
    "        :returns classification results\n",
    "        \"\"\"\n",
    "        if force_reload:\n",
    "            return self.monkey_model.classifiers.classify(self.keys['model_id'], self.tweets)\n",
    "        else:\n",
    "            if os.path.exists(\"../data/analysed_tweets.json\"):\n",
    "                try:\n",
    "                    return json.load(open(\"../data/analysed_tweets.json\", \"r\"))\n",
    "                except ValueError:\n",
    "                    return self.monkey_model.classifiers.classify(self.keys['model_id'], self.tweets)\n",
    "            else:\n",
    "                return self.monkey_model.classifiers.classify(self.keys['model_id'], self.tweets)\n",
    "    \n",
    "    def get_polarity_score(self, tweet):\n",
    "        return TextBlob(tweet).polarity\n",
    "    \n",
    "    def get_sentiment_score(self, tweet):\n",
    "        return TextBlob(tweet).sentiment\n",
    "    \n",
    "    def show_raw_results(self):\n",
    "        \"\"\" Prints base results returned from MonkeyLearn/TextBlob \"\"\"\n",
    "        pos, neg, neut = 0, 0, 0  # positive, negative and neutral tweets, according to model\n",
    "        for at in self.analysed_tweets.body:\n",
    "            print(at['text'])\n",
    "            print(\"Polarity\", sa.get_polarity_score(at['text']))\n",
    "            print(\"TB sentiment\", sa.get_sentiment_score(at['text']))\n",
    "            for elem in at['classifications']:\n",
    "                if elem['tag_name'] == \"Neutral\":\n",
    "                    neut += 1\n",
    "                elif elem['tag_name'] == \"Positive\":\n",
    "                    pos += 1\n",
    "                else:\n",
    "                    neg += 1\n",
    "                print(elem['tag_name'], elem['confidence'])\n",
    "            print(\"-\" * 20)\n",
    "        \n",
    "        print(\"{} positive tweets\".format(pos))\n",
    "        print(\"{} negative tweets\".format(neg))\n",
    "        print(\"{} neutral tweets\".format(neut))\n",
    "    \n",
    "    # TODO\n",
    "    def visualise(self):\n",
    "        pass"
   ]
  },
  {
   "cell_type": "code",
   "execution_count": null,
   "metadata": {},
   "outputs": [],
   "source": [
    "try:\n",
    "    tweets = json.load(open(\"../data/raw_tweets.json\", \"r\"))\n",
    "except IOError:\n",
    "    sys.exit(\"'raw_tweets.json' doesn't exist !\")\n",
    "    \n",
    "sa = SentimentAnalyser(tweets)\n",
    "analysed = sa.analyse_tweets()\n",
    "sa.show_raw_results()"
   ]
  }
 ],
 "metadata": {
  "kernelspec": {
   "display_name": "Python 3",
   "language": "python",
   "name": "python3"
  },
  "language_info": {
   "codemirror_mode": {
    "name": "ipython",
    "version": 3
   },
   "file_extension": ".py",
   "mimetype": "text/x-python",
   "name": "python",
   "nbconvert_exporter": "python",
   "pygments_lexer": "ipython3",
   "version": "3.5.2"
  }
 },
 "nbformat": 4,
 "nbformat_minor": 2
}
