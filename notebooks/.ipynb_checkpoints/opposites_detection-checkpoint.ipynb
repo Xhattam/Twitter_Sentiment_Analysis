{
 "cells": [
  {
   "cell_type": "code",
   "execution_count": 20,
   "metadata": {},
   "outputs": [],
   "source": [
    "# Embedder: Transformer\n",
    "import sys\n",
    "sys.path.insert(0, \"/home/jessica/generic_python_scripts\")\n",
    "import pandas as pd\n",
    "from textblob import TextBlob"
   ]
  },
  {
   "cell_type": "code",
   "execution_count": 12,
   "metadata": {},
   "outputs": [],
   "source": [
    "from kb_getters import get_similarity"
   ]
  },
  {
   "cell_type": "code",
   "execution_count": 43,
   "metadata": {},
   "outputs": [],
   "source": [
    "pairs = [\n",
    "    (\"common\", \"uncommon\"), \n",
    "    (\"common\", \"rare\"), \n",
    "    (\"uncommon\", \"rare\"),\n",
    "    (\"useful\", \"useless\"), \n",
    "    (\"painful\", \"painless\"),\n",
    "    (\"uncommon\", \"painful\"),\n",
    "    (\"dog\", \"cat\"),\n",
    "    (\"dog\", \"wolf\")\n",
    "]"
   ]
  },
  {
   "cell_type": "code",
   "execution_count": 44,
   "metadata": {},
   "outputs": [],
   "source": [
    "def has_opposite_polarities(p1, p2):\n",
    "    import numpy as np\n",
    "    return np.sign(p1) != np.sign(p2)\n",
    "    "
   ]
  },
  {
   "cell_type": "code",
   "execution_count": 42,
   "metadata": {},
   "outputs": [],
   "source": [
    "sims = []\n",
    "polarities = []\n",
    "for pair in pairs:\n",
    "    p1, p2 = pair\n",
    "    sim = get_similarity(p1, p2)\n",
    "    tb1 = TextBlob(p1)\n",
    "    tb2 = TextBlob(p2)\n",
    "    polarity1 = tb1.polarity\n",
    "    polarity2 = tb2.polarity\n",
    "    polarities.append((polarity1, polarity2))\n",
    "    sims.append(sim)"
   ]
  },
  {
   "cell_type": "code",
   "execution_count": 46,
   "metadata": {},
   "outputs": [],
   "source": [
    "df = pd.DataFrame(columns=['Term1', 'Term2', 'Similarity', 'Opposite polarity'])\n",
    "for i in range(len(pairs)):\n",
    "    term1, term2 = pairs[i]\n",
    "    sim = sims[i]\n",
    "    p1, p2 = polarities[i]\n",
    "    opp = has_opposite_polarities(p1, p2)\n",
    "    df = df.append({\n",
    "            'Term1': term1, \n",
    "            'Term2': term2, \n",
    "            'Similarity': sim, \n",
    "            'Opposite polarity': \"Yes\" if opp else \"No\"\n",
    "        }\n",
    "        , ignore_index=True)"
   ]
  },
  {
   "cell_type": "code",
   "execution_count": 47,
   "metadata": {},
   "outputs": [
    {
     "data": {
      "text/html": [
       "<div>\n",
       "<style scoped>\n",
       "    .dataframe tbody tr th:only-of-type {\n",
       "        vertical-align: middle;\n",
       "    }\n",
       "\n",
       "    .dataframe tbody tr th {\n",
       "        vertical-align: top;\n",
       "    }\n",
       "\n",
       "    .dataframe thead th {\n",
       "        text-align: right;\n",
       "    }\n",
       "</style>\n",
       "<table border=\"1\" class=\"dataframe\">\n",
       "  <thead>\n",
       "    <tr style=\"text-align: right;\">\n",
       "      <th></th>\n",
       "      <th>Term1</th>\n",
       "      <th>Term2</th>\n",
       "      <th>Similarity</th>\n",
       "      <th>Opposite polarity</th>\n",
       "    </tr>\n",
       "  </thead>\n",
       "  <tbody>\n",
       "    <tr>\n",
       "      <th>0</th>\n",
       "      <td>common</td>\n",
       "      <td>uncommon</td>\n",
       "      <td>0.917682</td>\n",
       "      <td>Yes</td>\n",
       "    </tr>\n",
       "    <tr>\n",
       "      <th>1</th>\n",
       "      <td>common</td>\n",
       "      <td>rare</td>\n",
       "      <td>0.802172</td>\n",
       "      <td>Yes</td>\n",
       "    </tr>\n",
       "    <tr>\n",
       "      <th>2</th>\n",
       "      <td>uncommon</td>\n",
       "      <td>rare</td>\n",
       "      <td>0.831943</td>\n",
       "      <td>No</td>\n",
       "    </tr>\n",
       "    <tr>\n",
       "      <th>3</th>\n",
       "      <td>useful</td>\n",
       "      <td>useless</td>\n",
       "      <td>0.836929</td>\n",
       "      <td>Yes</td>\n",
       "    </tr>\n",
       "    <tr>\n",
       "      <th>4</th>\n",
       "      <td>painful</td>\n",
       "      <td>painless</td>\n",
       "      <td>0.709819</td>\n",
       "      <td>Yes</td>\n",
       "    </tr>\n",
       "    <tr>\n",
       "      <th>5</th>\n",
       "      <td>uncommon</td>\n",
       "      <td>painful</td>\n",
       "      <td>0.393688</td>\n",
       "      <td>Yes</td>\n",
       "    </tr>\n",
       "    <tr>\n",
       "      <th>6</th>\n",
       "      <td>dog</td>\n",
       "      <td>cat</td>\n",
       "      <td>0.691050</td>\n",
       "      <td>No</td>\n",
       "    </tr>\n",
       "    <tr>\n",
       "      <th>7</th>\n",
       "      <td>dog</td>\n",
       "      <td>wolf</td>\n",
       "      <td>0.681269</td>\n",
       "      <td>No</td>\n",
       "    </tr>\n",
       "  </tbody>\n",
       "</table>\n",
       "</div>"
      ],
      "text/plain": [
       "      Term1     Term2  Similarity Opposite polarity\n",
       "0    common  uncommon    0.917682               Yes\n",
       "1    common      rare    0.802172               Yes\n",
       "2  uncommon      rare    0.831943                No\n",
       "3    useful   useless    0.836929               Yes\n",
       "4   painful  painless    0.709819               Yes\n",
       "5  uncommon   painful    0.393688               Yes\n",
       "6       dog       cat    0.691050                No\n",
       "7       dog      wolf    0.681269                No"
      ]
     },
     "execution_count": 47,
     "metadata": {},
     "output_type": "execute_result"
    }
   ],
   "source": [
    "df"
   ]
  },
  {
   "cell_type": "code",
   "execution_count": null,
   "metadata": {},
   "outputs": [],
   "source": []
  }
 ],
 "metadata": {
  "kernelspec": {
   "display_name": "Python 3",
   "language": "python",
   "name": "python3"
  },
  "language_info": {
   "codemirror_mode": {
    "name": "ipython",
    "version": 3
   },
   "file_extension": ".py",
   "mimetype": "text/x-python",
   "name": "python",
   "nbconvert_exporter": "python",
   "pygments_lexer": "ipython3",
   "version": "3.6.7"
  }
 },
 "nbformat": 4,
 "nbformat_minor": 2
}
